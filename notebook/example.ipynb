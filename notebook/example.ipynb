{
  "cells": [
    {
      "cell_type": "markdown",
      "source": [
        "Hello, I'm an example Jupyter Notebook!"
      ],
      "metadata": {
        "id": "fJRrdB_JVJhD"
      }
    },
    {
      "cell_type": "code",
      "source": [
        "# This is some python code\n",
        "print(\"Hello World\")"
      ],
      "metadata": {
        "id": "ykNvQpnMVQDn",
        "outputId": "5e946dec-b175-4def-d79d-b27f125760a3",
        "colab": {
          "base_uri": "https://localhost:8080/"
        }
      },
      "execution_count": 1,
      "outputs": [
        {
          "output_type": "stream",
          "name": "stdout",
          "text": [
            "Hello World\n"
          ]
        }
      ]
    }
  ],
  "metadata": {
    "colab": {
      "collapsed_sections": [],
      "name": "colab-github-demo.ipynb",
      "provenance": []
    },
    "kernelspec": {
      "display_name": "Python 3",
      "name": "python3"
    }
  },
  "nbformat": 4,
  "nbformat_minor": 0
}